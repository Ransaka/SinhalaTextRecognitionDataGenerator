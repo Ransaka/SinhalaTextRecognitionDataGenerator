{
 "cells": [
  {
   "cell_type": "code",
   "execution_count": 1,
   "metadata": {},
   "outputs": [],
   "source": [
    "import sys\n",
    "sys.path.append(\"../\")"
   ]
  },
  {
   "cell_type": "code",
   "execution_count": 2,
   "metadata": {},
   "outputs": [],
   "source": [
    "from sdgen.SinhalaDataGenerator import SinhalaTextGenerator"
   ]
  },
  {
   "cell_type": "code",
   "execution_count": 3,
   "metadata": {},
   "outputs": [],
   "source": [
    "ocr_generator = SinhalaTextGenerator(\n",
    "    data_path='../text/text-sample_10k.txt',\n",
    "    save_interval=1,\n",
    "    font_dir='../fonts/sin/NotoSansSinhala_SemiCondensed-Thin.ttf',\n",
    "    font_size=20,\n",
    "    shape= (512, 512),\n",
    "    min_text_length=1000,\n",
    "    word_space=5,\n",
    "    start_word_xy=(15, 10),\n",
    "    line_space=15,\n",
    "    background_image_dir='../background/paper_background_01.jpg',\n",
    "    color = 'black',\n",
    "    perspective_transform= False,\n",
    "    sample_with_replace = True\n",
    ")"
   ]
  },
  {
   "cell_type": "code",
   "execution_count": 4,
   "metadata": {},
   "outputs": [
    {
     "name": "stderr",
     "output_type": "stream",
     "text": [
      "Requested sample size (15) is greater than the number of text samples (12). This will result in duplicate samples.\n",
      "Generating Images: 100%|██████████| 15/15 [00:10<00:00,  1.43it/s]\n"
     ]
    }
   ],
   "source": [
    "ocr_generator.generate(N=15,num_procs=-1)"
   ]
  }
 ],
 "metadata": {
  "kernelspec": {
   "display_name": "cv",
   "language": "python",
   "name": "python3"
  },
  "language_info": {
   "codemirror_mode": {
    "name": "ipython",
    "version": 3
   },
   "file_extension": ".py",
   "mimetype": "text/x-python",
   "name": "python",
   "nbconvert_exporter": "python",
   "pygments_lexer": "ipython3",
   "version": "3.10.0"
  },
  "orig_nbformat": 4
 },
 "nbformat": 4,
 "nbformat_minor": 2
}
